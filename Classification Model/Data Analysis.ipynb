{
 "cells": [
  {
   "cell_type": "code",
   "execution_count": 1,
   "id": "e76fbe83",
   "metadata": {},
   "outputs": [
    {
     "name": "stderr",
     "output_type": "stream",
     "text": [
      "C:\\Users\\dluis\\anaconda3\\lib\\site-packages\\pandas\\core\\computation\\expressions.py:21: UserWarning: Pandas requires version '2.8.4' or newer of 'numexpr' (version '2.8.1' currently installed).\n",
      "  from pandas.core.computation.check import NUMEXPR_INSTALLED\n",
      "C:\\Users\\dluis\\anaconda3\\lib\\site-packages\\pandas\\core\\arrays\\masked.py:60: UserWarning: Pandas requires version '1.3.6' or newer of 'bottleneck' (version '1.3.4' currently installed).\n",
      "  from pandas.core import (\n"
     ]
    }
   ],
   "source": [
    "import pandas as pd\n",
    "import numpy as np\n",
    "import sqlite3\n",
    "import matplotlib.pyplot as plt\n",
    "\n",
    "from sklearn.model_selection import train_test_split\n",
    "from sklearn.preprocessing import StandardScaler\n",
    "from sklearn.svm import OneClassSVM\n",
    "from sklearn.ensemble import IsolationForest\n",
    "from sklearn.covariance import EllipticEnvelope\n",
    "from sklearn.model_selection import GridSearchCV\n",
    "from sklearn.model_selection import RepeatedStratifiedKFold\n",
    "from sklearn.metrics import make_scorer, fbeta_score\n",
    "from joblib import dump, load"
   ]
  },
  {
   "cell_type": "code",
   "execution_count": 44,
   "id": "a7aeab58",
   "metadata": {},
   "outputs": [],
   "source": [
    "DATA_PATH = \"data/metrics.db\""
   ]
  },
  {
   "cell_type": "code",
   "execution_count": 45,
   "id": "f4b8a1df",
   "metadata": {},
   "outputs": [],
   "source": [
    "def load_data(data_path):\n",
    "    conn = sqlite3.connect(data_path)\n",
    "    \n",
    "    query = '''\n",
    "            SELECT numberLinesOfCodeBef, numberCommentsBef, numberBlankLinesBef, totalLinesBef, numParametersBef,\n",
    "                numStatementsBef, halsteadLengthBef, halsteadVocabularyBef, halsteadVolumeBef, halsteadDifficultyBef,\n",
    "                halsteadEffortBef, halsteadLevelBef, halsteadTimeBef, halsteadBugsDeliveredBef, halsteadMaintainabilityBef,\n",
    "                cyclomaticComplexityBef, cognitiveComplexityBef, lackOfCohesionInMethodBef, numberLinesOfCodeAft,\n",
    "                numberCommentsAft, numberBlankLinesAft, totalLinesAft, numParametersAft, numStatementsAft,\n",
    "                halsteadLengthAft, halsteadVocabularyAft, halsteadVolumeAft, halsteadDifficultyAft,\n",
    "                halsteadEffortAft, halsteadLevelAft, halsteadTimeAft, halsteadBugsDeliveredAft,\n",
    "                halsteadMaintainabilityAft, cyclomaticComplexityAft, cognitiveComplexityAft,\n",
    "                lackOfCohesionInMethodAft\n",
    "            FROM methodMetrics;\n",
    "    '''\n",
    "\n",
    "    df = pd.read_sql_query(query, conn)\n",
    "    \n",
    "    conn.close()\n",
    "    \n",
    "    return df"
   ]
  },
  {
   "cell_type": "code",
   "execution_count": 46,
   "id": "c16e4ae0",
   "metadata": {},
   "outputs": [
    {
     "data": {
      "text/html": [
       "<div>\n",
       "<style scoped>\n",
       "    .dataframe tbody tr th:only-of-type {\n",
       "        vertical-align: middle;\n",
       "    }\n",
       "\n",
       "    .dataframe tbody tr th {\n",
       "        vertical-align: top;\n",
       "    }\n",
       "\n",
       "    .dataframe thead th {\n",
       "        text-align: right;\n",
       "    }\n",
       "</style>\n",
       "<table border=\"1\" class=\"dataframe\">\n",
       "  <thead>\n",
       "    <tr style=\"text-align: right;\">\n",
       "      <th></th>\n",
       "      <th>numberLinesOfCodeBef</th>\n",
       "      <th>numberCommentsBef</th>\n",
       "      <th>numberBlankLinesBef</th>\n",
       "      <th>totalLinesBef</th>\n",
       "      <th>numParametersBef</th>\n",
       "      <th>numStatementsBef</th>\n",
       "      <th>halsteadLengthBef</th>\n",
       "      <th>halsteadVocabularyBef</th>\n",
       "      <th>halsteadVolumeBef</th>\n",
       "      <th>halsteadDifficultyBef</th>\n",
       "      <th>...</th>\n",
       "      <th>halsteadVolumeAft</th>\n",
       "      <th>halsteadDifficultyAft</th>\n",
       "      <th>halsteadEffortAft</th>\n",
       "      <th>halsteadLevelAft</th>\n",
       "      <th>halsteadTimeAft</th>\n",
       "      <th>halsteadBugsDeliveredAft</th>\n",
       "      <th>halsteadMaintainabilityAft</th>\n",
       "      <th>cyclomaticComplexityAft</th>\n",
       "      <th>cognitiveComplexityAft</th>\n",
       "      <th>lackOfCohesionInMethodAft</th>\n",
       "    </tr>\n",
       "  </thead>\n",
       "  <tbody>\n",
       "    <tr>\n",
       "      <th>0</th>\n",
       "      <td>57</td>\n",
       "      <td>0</td>\n",
       "      <td>5</td>\n",
       "      <td>62</td>\n",
       "      <td>2</td>\n",
       "      <td>55</td>\n",
       "      <td>77.0</td>\n",
       "      <td>321.0</td>\n",
       "      <td>482.542564</td>\n",
       "      <td>14.721973</td>\n",
       "      <td>...</td>\n",
       "      <td>104.041925</td>\n",
       "      <td>2.145161</td>\n",
       "      <td>223.186710</td>\n",
       "      <td>0.466165</td>\n",
       "      <td>12.399262</td>\n",
       "      <td>0.000333</td>\n",
       "      <td>75.333072</td>\n",
       "      <td>1</td>\n",
       "      <td>1</td>\n",
       "      <td>1.000000</td>\n",
       "    </tr>\n",
       "    <tr>\n",
       "      <th>1</th>\n",
       "      <td>4</td>\n",
       "      <td>0</td>\n",
       "      <td>2</td>\n",
       "      <td>6</td>\n",
       "      <td>2</td>\n",
       "      <td>2</td>\n",
       "      <td>45.0</td>\n",
       "      <td>91.0</td>\n",
       "      <td>247.133389</td>\n",
       "      <td>8.419355</td>\n",
       "      <td>...</td>\n",
       "      <td>104.041925</td>\n",
       "      <td>2.015152</td>\n",
       "      <td>209.660243</td>\n",
       "      <td>0.496241</td>\n",
       "      <td>11.647791</td>\n",
       "      <td>0.000333</td>\n",
       "      <td>75.333072</td>\n",
       "      <td>1</td>\n",
       "      <td>1</td>\n",
       "      <td>1.000000</td>\n",
       "    </tr>\n",
       "    <tr>\n",
       "      <th>2</th>\n",
       "      <td>3</td>\n",
       "      <td>0</td>\n",
       "      <td>2</td>\n",
       "      <td>5</td>\n",
       "      <td>2</td>\n",
       "      <td>1</td>\n",
       "      <td>21.0</td>\n",
       "      <td>36.0</td>\n",
       "      <td>92.238666</td>\n",
       "      <td>1.451613</td>\n",
       "      <td>...</td>\n",
       "      <td>104.041925</td>\n",
       "      <td>2.145161</td>\n",
       "      <td>223.186710</td>\n",
       "      <td>0.466165</td>\n",
       "      <td>12.399262</td>\n",
       "      <td>0.000333</td>\n",
       "      <td>75.333072</td>\n",
       "      <td>1</td>\n",
       "      <td>1</td>\n",
       "      <td>1.000000</td>\n",
       "    </tr>\n",
       "    <tr>\n",
       "      <th>3</th>\n",
       "      <td>3</td>\n",
       "      <td>0</td>\n",
       "      <td>0</td>\n",
       "      <td>3</td>\n",
       "      <td>1</td>\n",
       "      <td>1</td>\n",
       "      <td>29.0</td>\n",
       "      <td>40.0</td>\n",
       "      <td>140.881449</td>\n",
       "      <td>5.537037</td>\n",
       "      <td>...</td>\n",
       "      <td>122.211433</td>\n",
       "      <td>5.055556</td>\n",
       "      <td>617.846687</td>\n",
       "      <td>0.197802</td>\n",
       "      <td>34.324816</td>\n",
       "      <td>0.000333</td>\n",
       "      <td>74.843607</td>\n",
       "      <td>1</td>\n",
       "      <td>1</td>\n",
       "      <td>0.333333</td>\n",
       "    </tr>\n",
       "    <tr>\n",
       "      <th>4</th>\n",
       "      <td>11</td>\n",
       "      <td>0</td>\n",
       "      <td>0</td>\n",
       "      <td>11</td>\n",
       "      <td>2</td>\n",
       "      <td>6</td>\n",
       "      <td>26.0</td>\n",
       "      <td>49.0</td>\n",
       "      <td>122.211433</td>\n",
       "      <td>3.405405</td>\n",
       "      <td>...</td>\n",
       "      <td>80.710623</td>\n",
       "      <td>1.956522</td>\n",
       "      <td>157.912088</td>\n",
       "      <td>0.511111</td>\n",
       "      <td>8.772894</td>\n",
       "      <td>0.000333</td>\n",
       "      <td>76.105237</td>\n",
       "      <td>1</td>\n",
       "      <td>1</td>\n",
       "      <td>1.000000</td>\n",
       "    </tr>\n",
       "  </tbody>\n",
       "</table>\n",
       "<p>5 rows × 36 columns</p>\n",
       "</div>"
      ],
      "text/plain": [
       "   numberLinesOfCodeBef  numberCommentsBef  numberBlankLinesBef  \\\n",
       "0                    57                  0                    5   \n",
       "1                     4                  0                    2   \n",
       "2                     3                  0                    2   \n",
       "3                     3                  0                    0   \n",
       "4                    11                  0                    0   \n",
       "\n",
       "   totalLinesBef  numParametersBef  numStatementsBef  halsteadLengthBef  \\\n",
       "0             62                 2                55               77.0   \n",
       "1              6                 2                 2               45.0   \n",
       "2              5                 2                 1               21.0   \n",
       "3              3                 1                 1               29.0   \n",
       "4             11                 2                 6               26.0   \n",
       "\n",
       "   halsteadVocabularyBef  halsteadVolumeBef  halsteadDifficultyBef  ...  \\\n",
       "0                  321.0         482.542564              14.721973  ...   \n",
       "1                   91.0         247.133389               8.419355  ...   \n",
       "2                   36.0          92.238666               1.451613  ...   \n",
       "3                   40.0         140.881449               5.537037  ...   \n",
       "4                   49.0         122.211433               3.405405  ...   \n",
       "\n",
       "   halsteadVolumeAft  halsteadDifficultyAft  halsteadEffortAft  \\\n",
       "0         104.041925               2.145161         223.186710   \n",
       "1         104.041925               2.015152         209.660243   \n",
       "2         104.041925               2.145161         223.186710   \n",
       "3         122.211433               5.055556         617.846687   \n",
       "4          80.710623               1.956522         157.912088   \n",
       "\n",
       "   halsteadLevelAft  halsteadTimeAft  halsteadBugsDeliveredAft  \\\n",
       "0          0.466165        12.399262                  0.000333   \n",
       "1          0.496241        11.647791                  0.000333   \n",
       "2          0.466165        12.399262                  0.000333   \n",
       "3          0.197802        34.324816                  0.000333   \n",
       "4          0.511111         8.772894                  0.000333   \n",
       "\n",
       "   halsteadMaintainabilityAft  cyclomaticComplexityAft  \\\n",
       "0                   75.333072                        1   \n",
       "1                   75.333072                        1   \n",
       "2                   75.333072                        1   \n",
       "3                   74.843607                        1   \n",
       "4                   76.105237                        1   \n",
       "\n",
       "   cognitiveComplexityAft  lackOfCohesionInMethodAft  \n",
       "0                       1                   1.000000  \n",
       "1                       1                   1.000000  \n",
       "2                       1                   1.000000  \n",
       "3                       1                   0.333333  \n",
       "4                       1                   1.000000  \n",
       "\n",
       "[5 rows x 36 columns]"
      ]
     },
     "execution_count": 46,
     "metadata": {},
     "output_type": "execute_result"
    }
   ],
   "source": [
    "data = load_data(DATA_PATH)\n",
    "data.head()"
   ]
  },
  {
   "cell_type": "markdown",
   "id": "175b59e1",
   "metadata": {},
   "source": [
    "# Compare LiveRefSara with Real Data"
   ]
  },
  {
   "cell_type": "code",
   "execution_count": 47,
   "id": "fc0246e0",
   "metadata": {},
   "outputs": [],
   "source": [
    "def load_livRefSara_data(data_path):\n",
    "    conn = sqlite3.connect(data_path)\n",
    "    \n",
    "    query = '''\n",
    "            SELECT *\n",
    "            FROM metricsLiveRef;\n",
    "    '''\n",
    "\n",
    "    df = pd.read_sql_query(query, conn)\n",
    "    \n",
    "    conn.close()\n",
    "    \n",
    "    return df"
   ]
  },
  {
   "cell_type": "code",
   "execution_count": 48,
   "id": "36c89e05",
   "metadata": {},
   "outputs": [
    {
     "data": {
      "text/html": [
       "<div>\n",
       "<style scoped>\n",
       "    .dataframe tbody tr th:only-of-type {\n",
       "        vertical-align: middle;\n",
       "    }\n",
       "\n",
       "    .dataframe tbody tr th {\n",
       "        vertical-align: top;\n",
       "    }\n",
       "\n",
       "    .dataframe thead th {\n",
       "        text-align: right;\n",
       "    }\n",
       "</style>\n",
       "<table border=\"1\" class=\"dataframe\">\n",
       "  <thead>\n",
       "    <tr style=\"text-align: right;\">\n",
       "      <th></th>\n",
       "      <th>id</th>\n",
       "      <th>numberLinesOfCode</th>\n",
       "      <th>numberComments</th>\n",
       "      <th>numberBlankLines</th>\n",
       "      <th>totalLines</th>\n",
       "      <th>numParameters</th>\n",
       "      <th>numStatements</th>\n",
       "      <th>halsteadLength</th>\n",
       "      <th>halsteadVocabulary</th>\n",
       "      <th>halsteadVolume</th>\n",
       "      <th>halsteadDifficulty</th>\n",
       "      <th>halsteadEffort</th>\n",
       "      <th>halsteadLevel</th>\n",
       "      <th>halsteadTime</th>\n",
       "      <th>halsteadBugsDelivered</th>\n",
       "      <th>halsteadMaintainability</th>\n",
       "      <th>cyclomaticComplexity</th>\n",
       "      <th>cognitiveComplexity</th>\n",
       "      <th>lackOfCohesionInMethod</th>\n",
       "      <th>sameBeforeAfter</th>\n",
       "    </tr>\n",
       "  </thead>\n",
       "  <tbody>\n",
       "    <tr>\n",
       "      <th>0</th>\n",
       "      <td>24145</td>\n",
       "      <td>30.0</td>\n",
       "      <td>0.0</td>\n",
       "      <td>1.0</td>\n",
       "      <td>31.0</td>\n",
       "      <td>0.0</td>\n",
       "      <td>18.0</td>\n",
       "      <td>73.0</td>\n",
       "      <td>268.0</td>\n",
       "      <td>451.857193</td>\n",
       "      <td>16.432584</td>\n",
       "      <td>7425.181399</td>\n",
       "      <td>0.060855</td>\n",
       "      <td>412.510078</td>\n",
       "      <td>0.000333</td>\n",
       "      <td>49.053274</td>\n",
       "      <td>1.0</td>\n",
       "      <td>1.0</td>\n",
       "      <td>1.0</td>\n",
       "      <td>1</td>\n",
       "    </tr>\n",
       "    <tr>\n",
       "      <th>1</th>\n",
       "      <td>24146</td>\n",
       "      <td>17.0</td>\n",
       "      <td>0.0</td>\n",
       "      <td>5.0</td>\n",
       "      <td>22.0</td>\n",
       "      <td>0.0</td>\n",
       "      <td>15.0</td>\n",
       "      <td>65.0</td>\n",
       "      <td>200.0</td>\n",
       "      <td>391.453908</td>\n",
       "      <td>14.105263</td>\n",
       "      <td>5521.560384</td>\n",
       "      <td>0.070896</td>\n",
       "      <td>306.753355</td>\n",
       "      <td>0.000333</td>\n",
       "      <td>54.736042</td>\n",
       "      <td>2.0</td>\n",
       "      <td>2.0</td>\n",
       "      <td>0.0</td>\n",
       "      <td>0</td>\n",
       "    </tr>\n",
       "    <tr>\n",
       "      <th>2</th>\n",
       "      <td>24147</td>\n",
       "      <td>25.0</td>\n",
       "      <td>0.0</td>\n",
       "      <td>0.0</td>\n",
       "      <td>25.0</td>\n",
       "      <td>1.0</td>\n",
       "      <td>14.0</td>\n",
       "      <td>47.0</td>\n",
       "      <td>204.0</td>\n",
       "      <td>261.065676</td>\n",
       "      <td>9.804348</td>\n",
       "      <td>2559.578693</td>\n",
       "      <td>0.101996</td>\n",
       "      <td>142.198816</td>\n",
       "      <td>0.000333</td>\n",
       "      <td>52.045262</td>\n",
       "      <td>4.0</td>\n",
       "      <td>2.0</td>\n",
       "      <td>1.0</td>\n",
       "      <td>0</td>\n",
       "    </tr>\n",
       "    <tr>\n",
       "      <th>3</th>\n",
       "      <td>24148</td>\n",
       "      <td>7.0</td>\n",
       "      <td>0.0</td>\n",
       "      <td>0.0</td>\n",
       "      <td>7.0</td>\n",
       "      <td>1.0</td>\n",
       "      <td>5.0</td>\n",
       "      <td>26.0</td>\n",
       "      <td>53.0</td>\n",
       "      <td>122.211433</td>\n",
       "      <td>4.486111</td>\n",
       "      <td>548.254066</td>\n",
       "      <td>0.222910</td>\n",
       "      <td>30.458559</td>\n",
       "      <td>0.000333</td>\n",
       "      <td>66.547568</td>\n",
       "      <td>3.0</td>\n",
       "      <td>2.0</td>\n",
       "      <td>1.0</td>\n",
       "      <td>0</td>\n",
       "    </tr>\n",
       "    <tr>\n",
       "      <th>4</th>\n",
       "      <td>24149</td>\n",
       "      <td>25.0</td>\n",
       "      <td>0.0</td>\n",
       "      <td>0.0</td>\n",
       "      <td>25.0</td>\n",
       "      <td>1.0</td>\n",
       "      <td>14.0</td>\n",
       "      <td>47.0</td>\n",
       "      <td>204.0</td>\n",
       "      <td>261.065676</td>\n",
       "      <td>9.804348</td>\n",
       "      <td>2559.578693</td>\n",
       "      <td>0.101996</td>\n",
       "      <td>142.198816</td>\n",
       "      <td>0.000333</td>\n",
       "      <td>52.045262</td>\n",
       "      <td>4.0</td>\n",
       "      <td>2.0</td>\n",
       "      <td>1.0</td>\n",
       "      <td>0</td>\n",
       "    </tr>\n",
       "  </tbody>\n",
       "</table>\n",
       "</div>"
      ],
      "text/plain": [
       "      id  numberLinesOfCode  numberComments  numberBlankLines  totalLines  \\\n",
       "0  24145               30.0             0.0               1.0        31.0   \n",
       "1  24146               17.0             0.0               5.0        22.0   \n",
       "2  24147               25.0             0.0               0.0        25.0   \n",
       "3  24148                7.0             0.0               0.0         7.0   \n",
       "4  24149               25.0             0.0               0.0        25.0   \n",
       "\n",
       "   numParameters  numStatements  halsteadLength  halsteadVocabulary  \\\n",
       "0            0.0           18.0            73.0               268.0   \n",
       "1            0.0           15.0            65.0               200.0   \n",
       "2            1.0           14.0            47.0               204.0   \n",
       "3            1.0            5.0            26.0                53.0   \n",
       "4            1.0           14.0            47.0               204.0   \n",
       "\n",
       "   halsteadVolume  halsteadDifficulty  halsteadEffort  halsteadLevel  \\\n",
       "0      451.857193           16.432584     7425.181399       0.060855   \n",
       "1      391.453908           14.105263     5521.560384       0.070896   \n",
       "2      261.065676            9.804348     2559.578693       0.101996   \n",
       "3      122.211433            4.486111      548.254066       0.222910   \n",
       "4      261.065676            9.804348     2559.578693       0.101996   \n",
       "\n",
       "   halsteadTime  halsteadBugsDelivered  halsteadMaintainability  \\\n",
       "0    412.510078               0.000333                49.053274   \n",
       "1    306.753355               0.000333                54.736042   \n",
       "2    142.198816               0.000333                52.045262   \n",
       "3     30.458559               0.000333                66.547568   \n",
       "4    142.198816               0.000333                52.045262   \n",
       "\n",
       "   cyclomaticComplexity  cognitiveComplexity  lackOfCohesionInMethod  \\\n",
       "0                   1.0                  1.0                     1.0   \n",
       "1                   2.0                  2.0                     0.0   \n",
       "2                   4.0                  2.0                     1.0   \n",
       "3                   3.0                  2.0                     1.0   \n",
       "4                   4.0                  2.0                     1.0   \n",
       "\n",
       "   sameBeforeAfter  \n",
       "0                1  \n",
       "1                0  \n",
       "2                0  \n",
       "3                0  \n",
       "4                0  "
      ]
     },
     "execution_count": 48,
     "metadata": {},
     "output_type": "execute_result"
    }
   ],
   "source": [
    "lrs_data = load_livRefSara_data(DATA_PATH)\n",
    "lrs_data.head()"
   ]
  },
  {
   "cell_type": "markdown",
   "id": "aa1b1991",
   "metadata": {},
   "source": [
    "### Compare predicitons"
   ]
  },
  {
   "cell_type": "markdown",
   "id": "a818874b",
   "metadata": {},
   "source": [
    "#### Extract Method"
   ]
  },
  {
   "cell_type": "code",
   "execution_count": 49,
   "id": "69baa7d4",
   "metadata": {},
   "outputs": [
    {
     "data": {
      "text/plain": [
       "786"
      ]
     },
     "execution_count": 49,
     "metadata": {},
     "output_type": "execute_result"
    }
   ],
   "source": [
    "len(lrs_data)"
   ]
  },
  {
   "cell_type": "code",
   "execution_count": 50,
   "id": "e7dce3cb",
   "metadata": {},
   "outputs": [
    {
     "data": {
      "text/plain": [
       "346"
      ]
     },
     "execution_count": 50,
     "metadata": {},
     "output_type": "execute_result"
    }
   ],
   "source": [
    "no_pred = lrs_data[lrs_data['numberLinesOfCode'].isnull()]\n",
    "len(no_pred)"
   ]
  },
  {
   "cell_type": "code",
   "execution_count": 51,
   "id": "1aaabcce",
   "metadata": {},
   "outputs": [
    {
     "data": {
      "text/plain": [
       "440"
      ]
     },
     "execution_count": 51,
     "metadata": {},
     "output_type": "execute_result"
    }
   ],
   "source": [
    "pred = lrs_data[lrs_data['numberLinesOfCode'].notnull()]\n",
    "len(pred)"
   ]
  },
  {
   "cell_type": "code",
   "execution_count": 52,
   "id": "842d734c",
   "metadata": {},
   "outputs": [
    {
     "data": {
      "text/plain": [
       "55.97964376590331"
      ]
     },
     "execution_count": 52,
     "metadata": {},
     "output_type": "execute_result"
    }
   ],
   "source": [
    "len(pred) / len(lrs_data) * 100"
   ]
  },
  {
   "cell_type": "markdown",
   "id": "35c2ece1",
   "metadata": {},
   "source": [
    "#### Extract Class"
   ]
  },
  {
   "cell_type": "code",
   "execution_count": 168,
   "id": "0e454417",
   "metadata": {},
   "outputs": [],
   "source": [
    "path = \"Comparison data/EC - Sara.db\"\n",
    "\n",
    "conn = sqlite3.connect(path)\n",
    "    \n",
    "query = '''\n",
    "        SELECT *\n",
    "        FROM classMetricsLiveRefSaraYesNo;\n",
    "'''\n",
    "\n",
    "ec_sara = pd.read_sql_query(query, conn)\n",
    "\n",
    "conn.close()"
   ]
  },
  {
   "cell_type": "code",
   "execution_count": 169,
   "id": "67ee57d2",
   "metadata": {},
   "outputs": [
    {
     "data": {
      "text/plain": [
       "5.75"
      ]
     },
     "execution_count": 169,
     "metadata": {},
     "output_type": "execute_result"
    }
   ],
   "source": [
    "len(ec_sara[ec_sara[\"extracted\"] == 1]) / len(ec_sara) * 100"
   ]
  },
  {
   "cell_type": "markdown",
   "id": "4d70d631",
   "metadata": {},
   "source": [
    "### Compare effectiveness Extract Method"
   ]
  },
  {
   "cell_type": "code",
   "execution_count": 10,
   "id": "2d5b4de1",
   "metadata": {},
   "outputs": [
    {
     "data": {
      "text/plain": [
       "Index(['id', 'numberLinesOfCode', 'numberComments', 'numberBlankLines',\n",
       "       'totalLines', 'numParameters', 'numStatements', 'halsteadLength',\n",
       "       'halsteadVocabulary', 'halsteadVolume', 'halsteadDifficulty',\n",
       "       'halsteadEffort', 'halsteadLevel', 'halsteadTime',\n",
       "       'halsteadBugsDelivered', 'halsteadMaintainability',\n",
       "       'cyclomaticComplexity', 'cognitiveComplexity', 'lackOfCohesionInMethod',\n",
       "       'sameBeforeAfter'],\n",
       "      dtype='object')"
      ]
     },
     "execution_count": 10,
     "metadata": {},
     "output_type": "execute_result"
    }
   ],
   "source": [
    "lrs_data.columns"
   ]
  },
  {
   "cell_type": "code",
   "execution_count": 13,
   "id": "b076fa63",
   "metadata": {},
   "outputs": [
    {
     "name": "stdout",
     "output_type": "stream",
     "text": [
      "        id  numberLinesOfCodeSara  numberCommentsSara  numberBlankLinesSara  \\\n",
      "0    24145                   30.0                 0.0                   1.0   \n",
      "1    24146                   17.0                 0.0                   5.0   \n",
      "2    24147                   25.0                 0.0                   0.0   \n",
      "3    24148                    7.0                 0.0                   0.0   \n",
      "4    24149                   25.0                 0.0                   0.0   \n",
      "..     ...                    ...                 ...                   ...   \n",
      "781  24950                    NaN                 NaN                   NaN   \n",
      "782  24951                    NaN                 NaN                   NaN   \n",
      "783  24952                  197.0                29.0                  45.0   \n",
      "784  24953                    NaN                 NaN                   NaN   \n",
      "785  24954                    NaN                 NaN                   NaN   \n",
      "\n",
      "     totalLinesSara  numParametersSara  numStatementsSara  halsteadLengthSara  \\\n",
      "0              31.0                0.0               18.0                73.0   \n",
      "1              22.0                0.0               15.0                65.0   \n",
      "2              25.0                1.0               14.0                47.0   \n",
      "3               7.0                1.0                5.0                26.0   \n",
      "4              25.0                1.0               14.0                47.0   \n",
      "..              ...                ...                ...                 ...   \n",
      "781             NaN                NaN                NaN                 NaN   \n",
      "782             NaN                NaN                NaN                 NaN   \n",
      "783           271.0                1.0              134.0               177.0   \n",
      "784             NaN                NaN                NaN                 NaN   \n",
      "785             NaN                NaN                NaN                 NaN   \n",
      "\n",
      "     halsteadVocabularySara  halsteadVolumeSara  ...  halsteadVolumeAft  \\\n",
      "0                     268.0          451.857193  ...         513.527850   \n",
      "1                     200.0          391.453908  ...         451.857193   \n",
      "2                     204.0          261.065676  ...         134.605938   \n",
      "3                      53.0          122.211433  ...         179.524906   \n",
      "4                     204.0          261.065676  ...         134.605938   \n",
      "..                      ...                 ...  ...                ...   \n",
      "781                     NaN                 NaN  ...          86.438562   \n",
      "782                     NaN                 NaN  ...         226.477332   \n",
      "783                  1329.0         1321.766182  ...          64.000000   \n",
      "784                     NaN                 NaN  ...          98.107496   \n",
      "785                     NaN                 NaN  ...         233.329384   \n",
      "\n",
      "     halsteadDifficultyAft  halsteadEffortAft  halsteadLevelAft  \\\n",
      "0                18.335681        9415.882719          0.054538   \n",
      "1                16.872727        7624.063180          0.059267   \n",
      "2                 4.200000         565.344939          0.238095   \n",
      "3                 6.666667        1196.832704          0.150000   \n",
      "4                 4.200000         565.344939          0.238095   \n",
      "..                     ...                ...               ...   \n",
      "781               2.482759         214.606085          0.402778   \n",
      "782               7.164474        1622.590883          0.139578   \n",
      "783               1.764706         112.941176          0.566667   \n",
      "784               3.375000         331.112798          0.296296   \n",
      "785               7.916667        1847.190960          0.126316   \n",
      "\n",
      "     halsteadTimeAft  halsteadBugsDeliveredAft  halsteadMaintainabilityAft  \\\n",
      "0         523.104595                  0.000333                   46.677396   \n",
      "1         423.559066                  0.000333                   52.163294   \n",
      "2          31.408052                  0.000333                   61.416541   \n",
      "3          66.490706                  0.000333                   61.999116   \n",
      "4          31.408052                  0.000333                   61.416541   \n",
      "..               ...                       ...                         ...   \n",
      "781        11.922560                  0.000333                   71.057339   \n",
      "782        90.143938                  0.000333                   58.807057   \n",
      "783         6.274510                  0.000333                   76.810695   \n",
      "784        18.395155                  0.000333                   75.511666   \n",
      "785       102.621720                  0.000333                   58.985424   \n",
      "\n",
      "     cyclomaticComplexityAft  cognitiveComplexityAft  \\\n",
      "0                          1                       1   \n",
      "1                          3                       4   \n",
      "2                          1                       1   \n",
      "3                          3                       2   \n",
      "4                          1                       1   \n",
      "..                       ...                     ...   \n",
      "781                        1                       1   \n",
      "782                        3                       4   \n",
      "783                        1                       1   \n",
      "784                        1                       1   \n",
      "785                        1                       1   \n",
      "\n",
      "     lackOfCohesionInMethodAft  \n",
      "0                          1.0  \n",
      "1                          0.0  \n",
      "2                          1.0  \n",
      "3                          1.0  \n",
      "4                          1.0  \n",
      "..                         ...  \n",
      "781                        0.0  \n",
      "782                        1.0  \n",
      "783                        1.0  \n",
      "784                        1.0  \n",
      "785                        0.0  \n",
      "\n",
      "[786 rows x 57 columns]\n"
     ]
    }
   ],
   "source": [
    "# Connect to the SQLite database\n",
    "conn = sqlite3.connect(DATA_PATH)\n",
    "\n",
    "# Read the tables into pandas DataFrames\n",
    "df_methodMetrics = pd.read_sql_query(\"SELECT * FROM methodMetrics\", conn)\n",
    "df_metricsLiveRef = pd.read_sql_query(\"SELECT * FROM metricsLiveRef\", conn)\n",
    "\n",
    "# Rename columns in metricsLiveRef to append 'Sara', except the 'id' column\n",
    "df_metricsLiveRef = df_metricsLiveRef.rename(columns=lambda x: x + 'Sara' if x != 'id' else x)\n",
    "\n",
    "# Merge the DataFrames on the 'id' column\n",
    "result_df = pd.merge(df_metricsLiveRef, df_methodMetrics, on='id', how='inner')\n",
    "\n",
    "# Display the resulting DataFrame\n",
    "print(result_df)\n",
    "\n",
    "# Close the connection\n",
    "conn.close()"
   ]
  },
  {
   "cell_type": "code",
   "execution_count": 16,
   "id": "4ce7a4a0",
   "metadata": {},
   "outputs": [
    {
     "name": "stdout",
     "output_type": "stream",
     "text": [
      "                     Metric  Average Reduction Real  Average Reduction LiveRef\n",
      "0         numberLinesOfCode              -11.081425                  -9.154545\n",
      "1            numberComments               -0.445293                  -0.120455\n",
      "2          numberBlankLines               -1.853690                  -0.470455\n",
      "3                totalLines              -13.380407                  -9.745455\n",
      "4             numParameters                0.000000                   0.000000\n",
      "5             numStatements               -9.424936                  -7.715909\n",
      "6            halsteadLength              -11.541985                  -9.979545\n",
      "7        halsteadVocabulary              -87.536896                 -77.020455\n",
      "8            halsteadVolume              -85.743477                 -75.021855\n",
      "9        halsteadDifficulty               -2.859876                  -2.602830\n",
      "10           halsteadEffort            -2763.384101               -2440.331188\n",
      "11            halsteadLevel                0.064443                   0.026559\n",
      "12             halsteadTime             -153.521339                -135.573955\n",
      "13    halsteadBugsDelivered                0.000000                   0.000000\n",
      "14  halsteadMaintainability                4.939041                   4.027298\n",
      "15     cyclomaticComplexity               -2.128499                  -1.897727\n",
      "16      cognitiveComplexity              -42.960560                 -13.686364\n",
      "17   lackOfCohesionInMethod               -0.038684                   0.000978\n"
     ]
    }
   ],
   "source": [
    "# Calculate the differences for tool A (Aft - Bef)\n",
    "metrics_columns = [col.replace('Aft', '') for col in df_methodMetrics.columns if 'Aft' in col]\n",
    "\n",
    "for metric in metrics_columns:\n",
    "    result_df[f'{metric}_diff_A'] = result_df[f'{metric}Aft'] - result_df[f'{metric}Bef']\n",
    "\n",
    "# Calculate the differences for tool B (Sara - Bef)\n",
    "for metric in metrics_columns:\n",
    "    result_df[f'{metric}_diff_B'] = result_df[f'{metric}Sara'] - result_df[f'{metric}Bef']\n",
    "\n",
    "# Calculate the average reduction for each metric\n",
    "avg_reduction_A = result_df[[f'{metric}_diff_A' for metric in metrics_columns]].mean()\n",
    "avg_reduction_B = result_df[[f'{metric}_diff_B' for metric in metrics_columns]].mean()\n",
    "\n",
    "# Combine the results into a DataFrame for easier comparison\n",
    "comparison_df = pd.DataFrame({\n",
    "    'Metric': metrics_columns,\n",
    "    'Average Reduction Real': avg_reduction_A.values,\n",
    "    'Average Reduction LiveRef': avg_reduction_B.values\n",
    "})\n",
    "\n",
    "# Print the comparison DataFrame\n",
    "print(comparison_df)"
   ]
  },
  {
   "cell_type": "markdown",
   "id": "a9d9999f",
   "metadata": {},
   "source": [
    "# Compare LiveRefDiogo with Real Data"
   ]
  },
  {
   "cell_type": "markdown",
   "id": "3fa7f6f1",
   "metadata": {},
   "source": [
    "## Extract Method"
   ]
  },
  {
   "cell_type": "code",
   "execution_count": 53,
   "id": "0af1fdb5",
   "metadata": {},
   "outputs": [],
   "source": [
    "def load_liveRefDiogo_data(path):\n",
    "    conn = sqlite3.connect(path)\n",
    "    \n",
    "    query = '''\n",
    "            SELECT *\n",
    "            FROM metricsLiveRefNew;\n",
    "    '''\n",
    "\n",
    "    df = pd.read_sql_query(query, conn)\n",
    "    \n",
    "    conn.close()\n",
    "    \n",
    "    return df"
   ]
  },
  {
   "cell_type": "markdown",
   "id": "441850fd",
   "metadata": {},
   "source": [
    "### One Class SVM"
   ]
  },
  {
   "cell_type": "code",
   "execution_count": 123,
   "id": "f2a1118d",
   "metadata": {},
   "outputs": [],
   "source": [
    "svm_path = \"Comparison data/EM - one_class_SVM.db\""
   ]
  },
  {
   "cell_type": "code",
   "execution_count": 137,
   "id": "0dc47623",
   "metadata": {},
   "outputs": [
    {
     "data": {
      "text/html": [
       "<div>\n",
       "<style scoped>\n",
       "    .dataframe tbody tr th:only-of-type {\n",
       "        vertical-align: middle;\n",
       "    }\n",
       "\n",
       "    .dataframe tbody tr th {\n",
       "        vertical-align: top;\n",
       "    }\n",
       "\n",
       "    .dataframe thead th {\n",
       "        text-align: right;\n",
       "    }\n",
       "</style>\n",
       "<table border=\"1\" class=\"dataframe\">\n",
       "  <thead>\n",
       "    <tr style=\"text-align: right;\">\n",
       "      <th></th>\n",
       "      <th>id</th>\n",
       "      <th>extracted</th>\n",
       "      <th>sameBeforeAfter</th>\n",
       "    </tr>\n",
       "  </thead>\n",
       "  <tbody>\n",
       "    <tr>\n",
       "      <th>0</th>\n",
       "      <td>1</td>\n",
       "      <td>1</td>\n",
       "      <td>1</td>\n",
       "    </tr>\n",
       "    <tr>\n",
       "      <th>1</th>\n",
       "      <td>2</td>\n",
       "      <td>1</td>\n",
       "      <td>0</td>\n",
       "    </tr>\n",
       "    <tr>\n",
       "      <th>2</th>\n",
       "      <td>3</td>\n",
       "      <td>1</td>\n",
       "      <td>0</td>\n",
       "    </tr>\n",
       "    <tr>\n",
       "      <th>3</th>\n",
       "      <td>4</td>\n",
       "      <td>1</td>\n",
       "      <td>0</td>\n",
       "    </tr>\n",
       "    <tr>\n",
       "      <th>4</th>\n",
       "      <td>5</td>\n",
       "      <td>1</td>\n",
       "      <td>0</td>\n",
       "    </tr>\n",
       "  </tbody>\n",
       "</table>\n",
       "</div>"
      ],
      "text/plain": [
       "   id  extracted  sameBeforeAfter\n",
       "0   1          1                1\n",
       "1   2          1                0\n",
       "2   3          1                0\n",
       "3   4          1                0\n",
       "4   5          1                0"
      ]
     },
     "execution_count": 137,
     "metadata": {},
     "output_type": "execute_result"
    }
   ],
   "source": [
    "lrd_svm = load_liveRefDiogo_data(svm_path)\n",
    "lrd_svm.head()"
   ]
  },
  {
   "cell_type": "code",
   "execution_count": 138,
   "id": "3cce540e",
   "metadata": {},
   "outputs": [
    {
     "data": {
      "text/plain": [
       "786"
      ]
     },
     "execution_count": 138,
     "metadata": {},
     "output_type": "execute_result"
    }
   ],
   "source": [
    "len(lrd_svm)"
   ]
  },
  {
   "cell_type": "code",
   "execution_count": 139,
   "id": "19067762",
   "metadata": {},
   "outputs": [
    {
     "data": {
      "text/plain": [
       "311"
      ]
     },
     "execution_count": 139,
     "metadata": {},
     "output_type": "execute_result"
    }
   ],
   "source": [
    "no_pred_svm = lrd_svm[lrd_svm['extracted'] == 0]\n",
    "len(no_pred_svm)"
   ]
  },
  {
   "cell_type": "code",
   "execution_count": 140,
   "id": "e47be3bf",
   "metadata": {},
   "outputs": [
    {
     "data": {
      "text/plain": [
       "475"
      ]
     },
     "execution_count": 140,
     "metadata": {},
     "output_type": "execute_result"
    }
   ],
   "source": [
    "pred_svm = lrd_svm[lrd_svm['extracted'] == 1]\n",
    "len(pred_svm)"
   ]
  },
  {
   "cell_type": "code",
   "execution_count": 141,
   "id": "51af0363",
   "metadata": {},
   "outputs": [
    {
     "data": {
      "text/plain": [
       "60.43256997455471"
      ]
     },
     "execution_count": 141,
     "metadata": {},
     "output_type": "execute_result"
    }
   ],
   "source": [
    "len(pred_svm) / len(lrd_svm) * 100"
   ]
  },
  {
   "cell_type": "markdown",
   "id": "adb511b4",
   "metadata": {},
   "source": [
    "### Elliptic Envelope"
   ]
  },
  {
   "cell_type": "code",
   "execution_count": 157,
   "id": "f9390cf3",
   "metadata": {},
   "outputs": [],
   "source": [
    "ee_path = \"Comparison data/EM - elliptic envelope.db\""
   ]
  },
  {
   "cell_type": "code",
   "execution_count": 158,
   "id": "8f99f824",
   "metadata": {},
   "outputs": [
    {
     "data": {
      "text/html": [
       "<div>\n",
       "<style scoped>\n",
       "    .dataframe tbody tr th:only-of-type {\n",
       "        vertical-align: middle;\n",
       "    }\n",
       "\n",
       "    .dataframe tbody tr th {\n",
       "        vertical-align: top;\n",
       "    }\n",
       "\n",
       "    .dataframe thead th {\n",
       "        text-align: right;\n",
       "    }\n",
       "</style>\n",
       "<table border=\"1\" class=\"dataframe\">\n",
       "  <thead>\n",
       "    <tr style=\"text-align: right;\">\n",
       "      <th></th>\n",
       "      <th>id</th>\n",
       "      <th>extracted</th>\n",
       "      <th>sameBeforeAfter</th>\n",
       "    </tr>\n",
       "  </thead>\n",
       "  <tbody>\n",
       "    <tr>\n",
       "      <th>0</th>\n",
       "      <td>1</td>\n",
       "      <td>1</td>\n",
       "      <td>0</td>\n",
       "    </tr>\n",
       "    <tr>\n",
       "      <th>1</th>\n",
       "      <td>2</td>\n",
       "      <td>1</td>\n",
       "      <td>1</td>\n",
       "    </tr>\n",
       "    <tr>\n",
       "      <th>2</th>\n",
       "      <td>3</td>\n",
       "      <td>1</td>\n",
       "      <td>0</td>\n",
       "    </tr>\n",
       "    <tr>\n",
       "      <th>3</th>\n",
       "      <td>4</td>\n",
       "      <td>1</td>\n",
       "      <td>0</td>\n",
       "    </tr>\n",
       "    <tr>\n",
       "      <th>4</th>\n",
       "      <td>5</td>\n",
       "      <td>0</td>\n",
       "      <td>0</td>\n",
       "    </tr>\n",
       "  </tbody>\n",
       "</table>\n",
       "</div>"
      ],
      "text/plain": [
       "   id  extracted  sameBeforeAfter\n",
       "0   1          1                0\n",
       "1   2          1                1\n",
       "2   3          1                0\n",
       "3   4          1                0\n",
       "4   5          0                0"
      ]
     },
     "execution_count": 158,
     "metadata": {},
     "output_type": "execute_result"
    }
   ],
   "source": [
    "lrd_ee = load_liveRefDiogo_data(ee_path)\n",
    "lrd_ee.head()"
   ]
  },
  {
   "cell_type": "code",
   "execution_count": 159,
   "id": "893217fc",
   "metadata": {},
   "outputs": [
    {
     "data": {
      "text/plain": [
       "786"
      ]
     },
     "execution_count": 159,
     "metadata": {},
     "output_type": "execute_result"
    }
   ],
   "source": [
    "len(lrd_ee)"
   ]
  },
  {
   "cell_type": "code",
   "execution_count": 160,
   "id": "cb64345b",
   "metadata": {},
   "outputs": [
    {
     "data": {
      "text/plain": [
       "243"
      ]
     },
     "execution_count": 160,
     "metadata": {},
     "output_type": "execute_result"
    }
   ],
   "source": [
    "no_pred_ee = lrd_ee[lrd_ee['extracted'] == 0]\n",
    "len(no_pred_ee)"
   ]
  },
  {
   "cell_type": "code",
   "execution_count": 161,
   "id": "82737c75",
   "metadata": {},
   "outputs": [
    {
     "data": {
      "text/plain": [
       "543"
      ]
     },
     "execution_count": 161,
     "metadata": {},
     "output_type": "execute_result"
    }
   ],
   "source": [
    "pred_ee = lrd_ee[lrd_ee['extracted'] == 1]\n",
    "len(pred_ee)"
   ]
  },
  {
   "cell_type": "code",
   "execution_count": 162,
   "id": "b1121ac0",
   "metadata": {},
   "outputs": [
    {
     "data": {
      "text/plain": [
       "69.08396946564885"
      ]
     },
     "execution_count": 162,
     "metadata": {},
     "output_type": "execute_result"
    }
   ],
   "source": [
    "len(pred_ee) / len(lrd_ee) * 100"
   ]
  },
  {
   "cell_type": "markdown",
   "id": "added264",
   "metadata": {},
   "source": [
    "## Extract Class"
   ]
  },
  {
   "cell_type": "code",
   "execution_count": 4,
   "id": "2c66f7b5",
   "metadata": {},
   "outputs": [],
   "source": [
    "def load_liveRefDiogoEC_data(path):\n",
    "    conn = sqlite3.connect(path)\n",
    "\n",
    "    query = '''\n",
    "            SELECT *\n",
    "            FROM classMetricsLiveRefSaraYesNo;\n",
    "    '''\n",
    "\n",
    "    df = pd.read_sql_query(query, conn)\n",
    "\n",
    "    conn.close()\n",
    "    \n",
    "    return df"
   ]
  },
  {
   "cell_type": "markdown",
   "id": "140e45f1",
   "metadata": {},
   "source": [
    "### One Class SVM"
   ]
  },
  {
   "cell_type": "code",
   "execution_count": 183,
   "id": "83260af8",
   "metadata": {},
   "outputs": [],
   "source": [
    "ec_d_svm_data = load_liveRefDiogoEC_data(\"Comparison data/EC - one_class_SVM.db\")"
   ]
  },
  {
   "cell_type": "code",
   "execution_count": 184,
   "id": "d479c171",
   "metadata": {},
   "outputs": [
    {
     "data": {
      "text/plain": [
       "17.121588089330025"
      ]
     },
     "execution_count": 184,
     "metadata": {},
     "output_type": "execute_result"
    }
   ],
   "source": [
    "len(ec_d_svm_data[ec_d_svm_data[\"extracted\"] == 1]) / len(ec_d_svm_data) * 100"
   ]
  },
  {
   "cell_type": "markdown",
   "id": "6c8b0e05",
   "metadata": {},
   "source": [
    "### Elliptic Envelope"
   ]
  },
  {
   "cell_type": "code",
   "execution_count": 189,
   "id": "97a7bc7d",
   "metadata": {},
   "outputs": [],
   "source": [
    "ec_d_ee_data = load_liveRefDiogoEC_data(\"Comparison data/EC - elliptic envelope.db\")"
   ]
  },
  {
   "cell_type": "code",
   "execution_count": 190,
   "id": "39d66e32",
   "metadata": {},
   "outputs": [
    {
     "data": {
      "text/plain": [
       "22.0"
      ]
     },
     "execution_count": 190,
     "metadata": {},
     "output_type": "execute_result"
    }
   ],
   "source": [
    "len(ec_d_ee_data[ec_d_ee_data[\"extracted\"] == 1]) / len(ec_d_ee_data) * 100"
   ]
  }
 ],
 "metadata": {
  "kernelspec": {
   "display_name": "Python 3 (ipykernel)",
   "language": "python",
   "name": "python3"
  },
  "language_info": {
   "codemirror_mode": {
    "name": "ipython",
    "version": 3
   },
   "file_extension": ".py",
   "mimetype": "text/x-python",
   "name": "python",
   "nbconvert_exporter": "python",
   "pygments_lexer": "ipython3",
   "version": "3.9.12"
  }
 },
 "nbformat": 4,
 "nbformat_minor": 5
}
